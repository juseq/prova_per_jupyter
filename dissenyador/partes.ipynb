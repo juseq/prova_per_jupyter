{
 "cells": [
  {
   "cell_type": "code",
   "execution_count": 1,
   "metadata": {},
   "outputs": [
    {
     "name": "stdout",
     "output_type": "stream",
     "text": [
      "\u001b[1;31;47m ========================================\n",
      "   BENVINGUT AL DISSENYADOR DE PARTES   \n",
      "========================================\n",
      "[1] Fer els partes per demà             \n",
      "[2] Fer els partes per avui             \n",
      "[3] Fer parte de vialitat               \n",
      "[4] Fer els partes d'una data concreta  \n",
      "[5] canvi encarregat/preparat??         \n",
      "[6] Sortir                              \n",
      "========================================\n"
     ]
    },
    {
     "name": "stdin",
     "output_type": "stream",
     "text": [
      ">  2\n"
     ]
    },
    {
     "name": "stdout",
     "output_type": "stream",
     "text": [
      "Fer els partes amb data d'avui...\n",
      "\n",
      "Primer núm. de parte: \n"
     ]
    },
    {
     "name": "stdin",
     "output_type": "stream",
     "text": [
      ">  212\n"
     ]
    },
    {
     "name": "stdout",
     "output_type": "stream",
     "text": [
      "Primer parte: 212\n",
      "\n",
      "\n",
      "\n",
      "\n",
      "******** COMUNICACIONS *********\n",
      "\n",
      "Entrar nums. de comunicacions separats per espais: \n"
     ]
    },
    {
     "name": "stdin",
     "output_type": "stream",
     "text": [
      ">  29\n"
     ]
    },
    {
     "name": "stdout",
     "output_type": "stream",
     "text": [
      "\n",
      "Personal de comunicacions: 1\n",
      "Operador: María\n",
      "\n",
      "\n",
      "\n",
      "\n",
      "******** VIGILANCIA *********\n",
      "\n",
      "Entrar nums. dels vigilants separats per espais: \n"
     ]
    },
    {
     "name": "stdin",
     "output_type": "stream",
     "text": [
      ">  22 23\n"
     ]
    },
    {
     "name": "stdout",
     "output_type": "stream",
     "text": [
      "\n",
      "Personal de vigilància: 2\n",
      "Vigilant: Gual\n",
      "Vigilant: Padilla\n",
      "\n",
      "\n",
      "\n",
      "\n",
      "******** BRIGADA *********\n",
      "\n",
      "Entrar els codis de les operacions separats per espais: \n"
     ]
    },
    {
     "name": "stdin",
     "output_type": "stream",
     "text": [
      ">  1501\n"
     ]
    },
    {
     "name": "stdout",
     "output_type": "stream",
     "text": [
      "\n",
      "\n",
      "Operacions introduïdes: 1 \n",
      "Operació: Entorno\n",
      "\n",
      "\n",
      "**** parte de brigada: 1501 - Entorno ****\n",
      "Entrar els codis dels operaris separats per espais: \n"
     ]
    },
    {
     "name": "stdin",
     "output_type": "stream",
     "text": [
      ">  1 2 3\n"
     ]
    },
    {
     "name": "stdout",
     "output_type": "stream",
     "text": [
      "\n",
      "Operaris: 3 \n",
      "Operari: Francesc\n",
      "Operari: Edu\n",
      "Operari: Kike\n",
      "\n",
      "\n",
      "Partes finalitzats\n"
     ]
    },
    {
     "name": "stdin",
     "output_type": "stream",
     "text": [
      "\n",
      "Prèmer ENTER per continuar... \n"
     ]
    }
   ],
   "source": [
    "\"\"\"\n",
    "fitxer principal del programa\n",
    "\"\"\"\n",
    "import menu\n",
    "\n",
    "def main():\n",
    "    menu\n",
    "\n",
    "\n",
    "if __name__ == \"__main__\":\n",
    "    main()"
   ]
  },
  {
   "cell_type": "code",
   "execution_count": null,
   "metadata": {},
   "outputs": [],
   "source": []
  }
 ],
 "metadata": {
  "kernelspec": {
   "display_name": "Python 3",
   "language": "python",
   "name": "python3"
  },
  "language_info": {
   "codemirror_mode": {
    "name": "ipython",
    "version": 3
   },
   "file_extension": ".py",
   "mimetype": "text/x-python",
   "name": "python",
   "nbconvert_exporter": "python",
   "pygments_lexer": "ipython3",
   "version": "3.7.6"
  }
 },
 "nbformat": 4,
 "nbformat_minor": 4
}
